{
 "cells": [
  {
   "cell_type": "code",
   "execution_count": 1,
   "metadata": {},
   "outputs": [],
   "source": [
    "import numpy as np\n",
    "import pandas as pd\n",
    "import matplotlib.pyplot as plt\n",
    "\n",
    "df = pd.read_csv('palm.csv')\n",
    "df_w = pd.read_csv('palm_watering.csv')"
   ]
  },
  {
   "cell_type": "code",
   "execution_count": 2,
   "metadata": {},
   "outputs": [],
   "source": [
    "# Create \"last watered column, from the palm_watering csv\"\n",
    "df['last_watered'] = df['time_stamp'].apply(lambda x: df_w[df_w['time_stamp'] < x]['time_stamp'].iloc[-1] if len(df_w[df_w['time_stamp'] < x]) > 0 else None)"
   ]
  },
  {
   "cell_type": "code",
   "execution_count": 3,
   "metadata": {},
   "outputs": [
    {
     "name": "stdout",
     "output_type": "stream",
     "text": [
      "(np.int64(20), np.int64(2871))\n",
      "(np.int64(2880), np.int64(6248))\n",
      "(np.int64(6253), np.int64(7204))\n",
      "(np.int64(7208), np.int64(11985))\n",
      "(np.int64(12091), np.int64(15360))\n"
     ]
    },
    {
     "name": "stderr",
     "output_type": "stream",
     "text": [
      "C:\\Users\\coolj\\AppData\\Local\\Temp\\ipykernel_24104\\1560177770.py:19: SettingWithCopyWarning: \n",
      "A value is trying to be set on a copy of a slice from a DataFrame.\n",
      "Try using .loc[row_indexer,col_indexer] = value instead\n",
      "\n",
      "See the caveats in the documentation: https://pandas.pydata.org/pandas-docs/stable/user_guide/indexing.html#returning-a-view-versus-a-copy\n",
      "  filtered_group['peak_moisture'] = group['soil_moisture_1'].max()\n",
      "C:\\Users\\coolj\\AppData\\Local\\Temp\\ipykernel_24104\\1560177770.py:20: SettingWithCopyWarning: \n",
      "A value is trying to be set on a copy of a slice from a DataFrame.\n",
      "Try using .loc[row_indexer,col_indexer] = value instead\n",
      "\n",
      "See the caveats in the documentation: https://pandas.pydata.org/pandas-docs/stable/user_guide/indexing.html#returning-a-view-versus-a-copy\n",
      "  filtered_group['time_peak'] = group[group['soil_moisture_1'] == group['soil_moisture_1'].max()]['time_stamp'].iloc[0]\n",
      "C:\\Users\\coolj\\AppData\\Local\\Temp\\ipykernel_24104\\1560177770.py:25: SettingWithCopyWarning: \n",
      "A value is trying to be set on a copy of a slice from a DataFrame.\n",
      "Try using .loc[row_indexer,col_indexer] = value instead\n",
      "\n",
      "See the caveats in the documentation: https://pandas.pydata.org/pandas-docs/stable/user_guide/indexing.html#returning-a-view-versus-a-copy\n",
      "  filtered_group['moisture_before_watering'] = group.loc[:max_moisture_index]['soil_moisture_1'].min()\n",
      "C:\\Users\\coolj\\AppData\\Local\\Temp\\ipykernel_24104\\1560177770.py:19: SettingWithCopyWarning: \n",
      "A value is trying to be set on a copy of a slice from a DataFrame.\n",
      "Try using .loc[row_indexer,col_indexer] = value instead\n",
      "\n",
      "See the caveats in the documentation: https://pandas.pydata.org/pandas-docs/stable/user_guide/indexing.html#returning-a-view-versus-a-copy\n",
      "  filtered_group['peak_moisture'] = group['soil_moisture_1'].max()\n",
      "C:\\Users\\coolj\\AppData\\Local\\Temp\\ipykernel_24104\\1560177770.py:20: SettingWithCopyWarning: \n",
      "A value is trying to be set on a copy of a slice from a DataFrame.\n",
      "Try using .loc[row_indexer,col_indexer] = value instead\n",
      "\n",
      "See the caveats in the documentation: https://pandas.pydata.org/pandas-docs/stable/user_guide/indexing.html#returning-a-view-versus-a-copy\n",
      "  filtered_group['time_peak'] = group[group['soil_moisture_1'] == group['soil_moisture_1'].max()]['time_stamp'].iloc[0]\n",
      "C:\\Users\\coolj\\AppData\\Local\\Temp\\ipykernel_24104\\1560177770.py:23: SettingWithCopyWarning: \n",
      "A value is trying to be set on a copy of a slice from a DataFrame.\n",
      "Try using .loc[row_indexer,col_indexer] = value instead\n",
      "\n",
      "See the caveats in the documentation: https://pandas.pydata.org/pandas-docs/stable/user_guide/indexing.html#returning-a-view-versus-a-copy\n",
      "  filtered_group['moisture_before_watering'] = last_min_moisture\n",
      "C:\\Users\\coolj\\AppData\\Local\\Temp\\ipykernel_24104\\1560177770.py:19: SettingWithCopyWarning: \n",
      "A value is trying to be set on a copy of a slice from a DataFrame.\n",
      "Try using .loc[row_indexer,col_indexer] = value instead\n",
      "\n",
      "See the caveats in the documentation: https://pandas.pydata.org/pandas-docs/stable/user_guide/indexing.html#returning-a-view-versus-a-copy\n",
      "  filtered_group['peak_moisture'] = group['soil_moisture_1'].max()\n",
      "C:\\Users\\coolj\\AppData\\Local\\Temp\\ipykernel_24104\\1560177770.py:20: SettingWithCopyWarning: \n",
      "A value is trying to be set on a copy of a slice from a DataFrame.\n",
      "Try using .loc[row_indexer,col_indexer] = value instead\n",
      "\n",
      "See the caveats in the documentation: https://pandas.pydata.org/pandas-docs/stable/user_guide/indexing.html#returning-a-view-versus-a-copy\n",
      "  filtered_group['time_peak'] = group[group['soil_moisture_1'] == group['soil_moisture_1'].max()]['time_stamp'].iloc[0]\n",
      "C:\\Users\\coolj\\AppData\\Local\\Temp\\ipykernel_24104\\1560177770.py:23: SettingWithCopyWarning: \n",
      "A value is trying to be set on a copy of a slice from a DataFrame.\n",
      "Try using .loc[row_indexer,col_indexer] = value instead\n",
      "\n",
      "See the caveats in the documentation: https://pandas.pydata.org/pandas-docs/stable/user_guide/indexing.html#returning-a-view-versus-a-copy\n",
      "  filtered_group['moisture_before_watering'] = last_min_moisture\n",
      "C:\\Users\\coolj\\AppData\\Local\\Temp\\ipykernel_24104\\1560177770.py:19: SettingWithCopyWarning: \n",
      "A value is trying to be set on a copy of a slice from a DataFrame.\n",
      "Try using .loc[row_indexer,col_indexer] = value instead\n",
      "\n",
      "See the caveats in the documentation: https://pandas.pydata.org/pandas-docs/stable/user_guide/indexing.html#returning-a-view-versus-a-copy\n",
      "  filtered_group['peak_moisture'] = group['soil_moisture_1'].max()\n",
      "C:\\Users\\coolj\\AppData\\Local\\Temp\\ipykernel_24104\\1560177770.py:20: SettingWithCopyWarning: \n",
      "A value is trying to be set on a copy of a slice from a DataFrame.\n",
      "Try using .loc[row_indexer,col_indexer] = value instead\n",
      "\n",
      "See the caveats in the documentation: https://pandas.pydata.org/pandas-docs/stable/user_guide/indexing.html#returning-a-view-versus-a-copy\n",
      "  filtered_group['time_peak'] = group[group['soil_moisture_1'] == group['soil_moisture_1'].max()]['time_stamp'].iloc[0]\n",
      "C:\\Users\\coolj\\AppData\\Local\\Temp\\ipykernel_24104\\1560177770.py:23: SettingWithCopyWarning: \n",
      "A value is trying to be set on a copy of a slice from a DataFrame.\n",
      "Try using .loc[row_indexer,col_indexer] = value instead\n",
      "\n",
      "See the caveats in the documentation: https://pandas.pydata.org/pandas-docs/stable/user_guide/indexing.html#returning-a-view-versus-a-copy\n",
      "  filtered_group['moisture_before_watering'] = last_min_moisture\n",
      "C:\\Users\\coolj\\AppData\\Local\\Temp\\ipykernel_24104\\1560177770.py:19: SettingWithCopyWarning: \n",
      "A value is trying to be set on a copy of a slice from a DataFrame.\n",
      "Try using .loc[row_indexer,col_indexer] = value instead\n",
      "\n",
      "See the caveats in the documentation: https://pandas.pydata.org/pandas-docs/stable/user_guide/indexing.html#returning-a-view-versus-a-copy\n",
      "  filtered_group['peak_moisture'] = group['soil_moisture_1'].max()\n",
      "C:\\Users\\coolj\\AppData\\Local\\Temp\\ipykernel_24104\\1560177770.py:20: SettingWithCopyWarning: \n",
      "A value is trying to be set on a copy of a slice from a DataFrame.\n",
      "Try using .loc[row_indexer,col_indexer] = value instead\n",
      "\n",
      "See the caveats in the documentation: https://pandas.pydata.org/pandas-docs/stable/user_guide/indexing.html#returning-a-view-versus-a-copy\n",
      "  filtered_group['time_peak'] = group[group['soil_moisture_1'] == group['soil_moisture_1'].max()]['time_stamp'].iloc[0]\n",
      "C:\\Users\\coolj\\AppData\\Local\\Temp\\ipykernel_24104\\1560177770.py:23: SettingWithCopyWarning: \n",
      "A value is trying to be set on a copy of a slice from a DataFrame.\n",
      "Try using .loc[row_indexer,col_indexer] = value instead\n",
      "\n",
      "See the caveats in the documentation: https://pandas.pydata.org/pandas-docs/stable/user_guide/indexing.html#returning-a-view-versus-a-copy\n",
      "  filtered_group['moisture_before_watering'] = last_min_moisture\n"
     ]
    }
   ],
   "source": [
    "# for each 'last_watered' group, remove all the entries before the max soil_moisture_1 and after the min soil_moisture_1\n",
    "# then, create a new column 'peak_moisture' with the max soil_moisture_1, and 'time_peak' with the time of the max soil_moisture_1\n",
    "# and 'moisture_before_watering' with the min soil_moisture_1 before the max soil_moisture_1\n",
    "last_min_moisture = None\n",
    "\n",
    "filtered_groups = []\n",
    "for name, group in df.groupby('last_watered'):\n",
    "    max_moisture_index = group['soil_moisture_1'].idxmax()\n",
    "    min_moisture_index = group['soil_moisture_1'].idxmin()\n",
    "\n",
    "    print((max_moisture_index, min_moisture_index))\n",
    "\n",
    "    if max_moisture_index > min_moisture_index:\n",
    "        print(f\"Skipping group {name} because max moisture comes after min moisture\")\n",
    "        continue \n",
    "\n",
    "    filtered_group = group.loc[max_moisture_index:min_moisture_index]\n",
    "\n",
    "    filtered_group['peak_moisture'] = group['soil_moisture_1'].max()\n",
    "    filtered_group['time_peak'] = group[group['soil_moisture_1'] == group['soil_moisture_1'].max()]['time_stamp'].iloc[0]\n",
    "\n",
    "    if last_min_moisture is not None:\n",
    "        filtered_group['moisture_before_watering'] = last_min_moisture\n",
    "    else:\n",
    "        filtered_group['moisture_before_watering'] = group.loc[:max_moisture_index]['soil_moisture_1'].min()\n",
    "\n",
    "    last_min_moisture = group[group['time_stamp'] >= group['time_stamp'].max() - 3600000]['soil_moisture_1'].min()\n",
    "\n",
    "    filtered_groups.append(filtered_group)\n",
    "\n",
    "\n",
    "df_filtered = pd.concat(filtered_groups)\n"
   ]
  },
  {
   "cell_type": "code",
   "execution_count": 4,
   "metadata": {},
   "outputs": [
    {
     "data": {
      "text/plain": [
       "<matplotlib.legend.Legend at 0x1db494f9650>"
      ]
     },
     "execution_count": 4,
     "metadata": {},
     "output_type": "execute_result"
    },
    {
     "data": {
      "image/png": "[encoded data removed]",
      "text/plain": [
       "<Figure size 640x480 with 1 Axes>"
      ]
     },
     "metadata": {},
     "output_type": "display_data"
    }
   ],
   "source": [
    "# plot the new data\n",
    "plt.plot(df['time_stamp'], df['soil_moisture_1'], label='soil_moisture_1')\n",
    "plt.plot(df_filtered['time_stamp'], df_filtered['peak_moisture'], label='peak_moisture')\n",
    "plt.plot(df_filtered['time_stamp'], df_filtered['moisture_before_watering'], label='moisture_before_watering')\n",
    "plt.legend()"
   ]
  },
  {
   "cell_type": "code",
   "execution_count": 5,
   "metadata": {},
   "outputs": [],
   "source": [
    "df_filtered.to_csv('palm_features.csv', index=False)"
   ]
  },
  {
   "cell_type": "code",
   "execution_count": 6,
   "metadata": {},
   "outputs": [
    {
     "data": {
      "text/plain": [
       "15221"
      ]
     },
     "execution_count": 6,
     "metadata": {},
     "output_type": "execute_result"
    }
   ],
   "source": [
    "len(df_filtered)"
   ]
  }
 ],
 "metadata": {
  "kernelspec": {
   "display_name": "Python 3",
   "language": "python",
   "name": "python3"
  },
  "language_info": {
   "codemirror_mode": {
    "name": "ipython",
    "version": 3
   },
   "file_extension": ".py",
   "mimetype": "text/x-python",
   "name": "python",
   "nbconvert_exporter": "python",
   "pygments_lexer": "ipython3",
   "version": "3.11.9"
  }
 },
 "nbformat": 4,
 "nbformat_minor": 2
}
